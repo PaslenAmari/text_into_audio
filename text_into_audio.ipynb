{
  "nbformat": 4,
  "nbformat_minor": 0,
  "metadata": {
    "colab": {
      "provenance": []
    },
    "kernelspec": {
      "name": "python3",
      "display_name": "Python 3"
    },
    "language_info": {
      "name": "python"
    }
  },
  "cells": [
    {
      "cell_type": "code",
      "source": [
        "# установим нужные библиотеки\n",
        "!pip install tika\n",
        "!pip install PyPDF2\n",
        "!pip install pyttsx3\n",
        "!pip install espeak\n",
        "!pip install pdfplumber\n",
        "!pip install playsound\n",
        "!pip install gtts\n",
        "!pip install IPython\n",
        "\n",
        "# загрузим нужные библиотеки\n",
        "from tika import parser\n",
        "import pdfplumber\n",
        "import PyPDF2\n",
        "import pyttsx3\n",
        "import gtts\n",
        "from IPython.display import Audio"
      ],
      "metadata": {
        "colab": {
          "base_uri": "https://localhost:8080/",
          "height": 1000
        },
        "id": "nqTSQ8A4OSea",
        "outputId": "a26cc63f-f6f5-4bfb-d9ad-a97ae770cee6"
      },
      "execution_count": null,
      "outputs": [
        {
          "output_type": "stream",
          "name": "stdout",
          "text": [
            "Looking in indexes: https://pypi.org/simple, https://us-python.pkg.dev/colab-wheels/public/simple/\n",
            "Collecting tika\n",
            "  Downloading tika-1.24.tar.gz (28 kB)\n",
            "Requirement already satisfied: setuptools in /usr/local/lib/python3.7/dist-packages (from tika) (57.4.0)\n",
            "Requirement already satisfied: requests in /usr/local/lib/python3.7/dist-packages (from tika) (2.23.0)\n",
            "Requirement already satisfied: chardet<4,>=3.0.2 in /usr/local/lib/python3.7/dist-packages (from requests->tika) (3.0.4)\n",
            "Requirement already satisfied: certifi>=2017.4.17 in /usr/local/lib/python3.7/dist-packages (from requests->tika) (2022.9.24)\n",
            "Requirement already satisfied: idna<3,>=2.5 in /usr/local/lib/python3.7/dist-packages (from requests->tika) (2.10)\n",
            "Requirement already satisfied: urllib3!=1.25.0,!=1.25.1,<1.26,>=1.21.1 in /usr/local/lib/python3.7/dist-packages (from requests->tika) (1.24.3)\n",
            "Building wheels for collected packages: tika\n",
            "  Building wheel for tika (setup.py) ... \u001b[?25l\u001b[?25hdone\n",
            "  Created wheel for tika: filename=tika-1.24-py3-none-any.whl size=32892 sha256=bafe793305b3504c1e66a5b7d210ab1365f40ce28be65ea217e5674ca3352726\n",
            "  Stored in directory: /root/.cache/pip/wheels/ec/2b/38/58ff05467a742e32f67f5d0de048fa046e764e2fbb25ac93f3\n",
            "Successfully built tika\n",
            "Installing collected packages: tika\n",
            "Successfully installed tika-1.24\n",
            "Looking in indexes: https://pypi.org/simple, https://us-python.pkg.dev/colab-wheels/public/simple/\n",
            "Collecting PyPDF2\n",
            "  Downloading PyPDF2-2.11.1-py3-none-any.whl (220 kB)\n",
            "\u001b[K     |████████████████████████████████| 220 kB 5.0 MB/s \n",
            "\u001b[?25hRequirement already satisfied: typing-extensions>=3.10.0.0 in /usr/local/lib/python3.7/dist-packages (from PyPDF2) (4.1.1)\n",
            "Installing collected packages: PyPDF2\n",
            "Successfully installed PyPDF2-2.11.1\n",
            "Looking in indexes: https://pypi.org/simple, https://us-python.pkg.dev/colab-wheels/public/simple/\n",
            "Collecting pyttsx3\n",
            "  Downloading pyttsx3-2.90-py3-none-any.whl (39 kB)\n",
            "Installing collected packages: pyttsx3\n",
            "Successfully installed pyttsx3-2.90\n",
            "Looking in indexes: https://pypi.org/simple, https://us-python.pkg.dev/colab-wheels/public/simple/\n",
            "\u001b[31mERROR: Could not find a version that satisfies the requirement espeak (from versions: none)\u001b[0m\n",
            "\u001b[31mERROR: No matching distribution found for espeak\u001b[0m\n",
            "Looking in indexes: https://pypi.org/simple, https://us-python.pkg.dev/colab-wheels/public/simple/\n",
            "Collecting pdfplumber\n",
            "  Downloading pdfplumber-0.7.5-py3-none-any.whl (40 kB)\n",
            "\u001b[K     |████████████████████████████████| 40 kB 4.0 MB/s \n",
            "\u001b[?25hCollecting Pillow>=9.1\n",
            "  Downloading Pillow-9.3.0-cp37-cp37m-manylinux_2_17_x86_64.manylinux2014_x86_64.whl (3.2 MB)\n",
            "\u001b[K     |████████████████████████████████| 3.2 MB 8.3 MB/s \n",
            "\u001b[?25hCollecting Wand>=0.6.10\n",
            "  Downloading Wand-0.6.10-py2.py3-none-any.whl (142 kB)\n",
            "\u001b[K     |████████████████████████████████| 142 kB 69.1 MB/s \n",
            "\u001b[?25hCollecting pdfminer.six==20220524\n",
            "  Downloading pdfminer.six-20220524-py3-none-any.whl (5.6 MB)\n",
            "\u001b[K     |████████████████████████████████| 5.6 MB 43.2 MB/s \n",
            "\u001b[?25hCollecting cryptography>=36.0.0\n",
            "  Downloading cryptography-38.0.3-cp36-abi3-manylinux_2_24_x86_64.whl (4.1 MB)\n",
            "\u001b[K     |████████████████████████████████| 4.1 MB 35.3 MB/s \n",
            "\u001b[?25hRequirement already satisfied: charset-normalizer>=2.0.0 in /usr/local/lib/python3.7/dist-packages (from pdfminer.six==20220524->pdfplumber) (2.1.1)\n",
            "Requirement already satisfied: cffi>=1.12 in /usr/local/lib/python3.7/dist-packages (from cryptography>=36.0.0->pdfminer.six==20220524->pdfplumber) (1.15.1)\n",
            "Requirement already satisfied: pycparser in /usr/local/lib/python3.7/dist-packages (from cffi>=1.12->cryptography>=36.0.0->pdfminer.six==20220524->pdfplumber) (2.21)\n",
            "Installing collected packages: cryptography, Wand, Pillow, pdfminer.six, pdfplumber\n",
            "  Attempting uninstall: Pillow\n",
            "    Found existing installation: Pillow 7.1.2\n",
            "    Uninstalling Pillow-7.1.2:\n",
            "      Successfully uninstalled Pillow-7.1.2\n",
            "Successfully installed Pillow-9.3.0 Wand-0.6.10 cryptography-38.0.3 pdfminer.six-20220524 pdfplumber-0.7.5\n"
          ]
        },
        {
          "output_type": "display_data",
          "data": {
            "application/vnd.colab-display-data+json": {
              "pip_warning": {
                "packages": [
                  "PIL"
                ]
              }
            }
          },
          "metadata": {}
        },
        {
          "output_type": "stream",
          "name": "stdout",
          "text": [
            "Looking in indexes: https://pypi.org/simple, https://us-python.pkg.dev/colab-wheels/public/simple/\n",
            "Collecting playsound\n",
            "  Downloading playsound-1.3.0.tar.gz (7.7 kB)\n",
            "Building wheels for collected packages: playsound\n",
            "  Building wheel for playsound (setup.py) ... \u001b[?25l\u001b[?25hdone\n",
            "  Created wheel for playsound: filename=playsound-1.3.0-py3-none-any.whl size=7035 sha256=f1a4e5929c9f78aa9b7e391d826c83d02681844f0bcce2beca7225b8b2fb8dac\n",
            "  Stored in directory: /root/.cache/pip/wheels/ba/f8/bb/ea57c0146b664dca3a0ada4199b0ecb5f9dfcb7b7e22b65ba2\n",
            "Successfully built playsound\n",
            "Installing collected packages: playsound\n",
            "Successfully installed playsound-1.3.0\n",
            "Looking in indexes: https://pypi.org/simple, https://us-python.pkg.dev/colab-wheels/public/simple/\n",
            "Collecting gtts\n",
            "  Downloading gTTS-2.2.4-py3-none-any.whl (26 kB)\n",
            "Requirement already satisfied: requests in /usr/local/lib/python3.7/dist-packages (from gtts) (2.23.0)\n",
            "Requirement already satisfied: click in /usr/local/lib/python3.7/dist-packages (from gtts) (7.1.2)\n",
            "Requirement already satisfied: six in /usr/local/lib/python3.7/dist-packages (from gtts) (1.15.0)\n",
            "Requirement already satisfied: urllib3!=1.25.0,!=1.25.1,<1.26,>=1.21.1 in /usr/local/lib/python3.7/dist-packages (from requests->gtts) (1.24.3)\n",
            "Requirement already satisfied: chardet<4,>=3.0.2 in /usr/local/lib/python3.7/dist-packages (from requests->gtts) (3.0.4)\n",
            "Requirement already satisfied: idna<3,>=2.5 in /usr/local/lib/python3.7/dist-packages (from requests->gtts) (2.10)\n",
            "Requirement already satisfied: certifi>=2017.4.17 in /usr/local/lib/python3.7/dist-packages (from requests->gtts) (2022.9.24)\n",
            "Installing collected packages: gtts\n",
            "Successfully installed gtts-2.2.4\n",
            "Looking in indexes: https://pypi.org/simple, https://us-python.pkg.dev/colab-wheels/public/simple/\n",
            "Requirement already satisfied: IPython in /usr/local/lib/python3.7/dist-packages (7.9.0)\n",
            "Requirement already satisfied: prompt-toolkit<2.1.0,>=2.0.0 in /usr/local/lib/python3.7/dist-packages (from IPython) (2.0.10)\n",
            "Requirement already satisfied: decorator in /usr/local/lib/python3.7/dist-packages (from IPython) (4.4.2)\n",
            "Requirement already satisfied: pygments in /usr/local/lib/python3.7/dist-packages (from IPython) (2.6.1)\n",
            "Requirement already satisfied: pexpect in /usr/local/lib/python3.7/dist-packages (from IPython) (4.8.0)\n",
            "Requirement already satisfied: backcall in /usr/local/lib/python3.7/dist-packages (from IPython) (0.2.0)\n",
            "Requirement already satisfied: traitlets>=4.2 in /usr/local/lib/python3.7/dist-packages (from IPython) (5.1.1)\n",
            "Collecting jedi>=0.10\n",
            "  Downloading jedi-0.18.1-py2.py3-none-any.whl (1.6 MB)\n",
            "\u001b[K     |████████████████████████████████| 1.6 MB 5.3 MB/s \n",
            "\u001b[?25hRequirement already satisfied: setuptools>=18.5 in /usr/local/lib/python3.7/dist-packages (from IPython) (57.4.0)\n",
            "Requirement already satisfied: pickleshare in /usr/local/lib/python3.7/dist-packages (from IPython) (0.7.5)\n",
            "Requirement already satisfied: parso<0.9.0,>=0.8.0 in /usr/local/lib/python3.7/dist-packages (from jedi>=0.10->IPython) (0.8.3)\n",
            "Requirement already satisfied: wcwidth in /usr/local/lib/python3.7/dist-packages (from prompt-toolkit<2.1.0,>=2.0.0->IPython) (0.2.5)\n",
            "Requirement already satisfied: six>=1.9.0 in /usr/local/lib/python3.7/dist-packages (from prompt-toolkit<2.1.0,>=2.0.0->IPython) (1.15.0)\n",
            "Requirement already satisfied: ptyprocess>=0.5 in /usr/local/lib/python3.7/dist-packages (from pexpect->IPython) (0.7.0)\n",
            "Installing collected packages: jedi\n",
            "Successfully installed jedi-0.18.1\n"
          ]
        }
      ]
    },
    {
      "cell_type": "code",
      "source": [
        "# with pdfplumber.open(\"surale_t.pdf\") as pdf_document:\n",
        "#   for pages in pdf_document.pages:\n",
        "#     print(pages.extract_text())\n",
        "#   number_of_pages = len(pdf_document.pages)"
      ],
      "metadata": {
        "id": "348FiZTnP7Pu"
      },
      "execution_count": null,
      "outputs": []
    },
    {
      "cell_type": "code",
      "source": [
        "# закдываем в переменную tts нужные для озвучки слова\n",
        "tts = gtts.gTTS(\"Бродилка-кочевник\", lang=\"ru\")\n",
        "# сохраняем аудиофайл\n",
        "tts.save(\"бродилка_кочевник.mp3\")\n",
        "Sound = Audio('бродилка_кочевник.mp3', autoplay=True)\n",
        "# отображаем интерфейс для воспроизведение аудиофайла в гугл колабе\n",
        "display(Sound)"
      ],
      "metadata": {
        "colab": {
          "base_uri": "https://localhost:8080/",
          "height": 75
        },
        "id": "3lL-OnTLfeR5",
        "outputId": "d32f8311-95e3-4458-dd6c-d6f96f8377a1"
      },
      "execution_count": null,
      "outputs": [
        {
          "output_type": "display_data",
          "data": {
            "text/plain": [
              "<IPython.lib.display.Audio object>"
            ],
            "text/html": [
              "\n",
              "                <audio  controls=\"controls\" autoplay=\"autoplay\">\n",
              "                    <source src=\"data:audio/mpeg;base64,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\" type=\"audio/mpeg\" />\n",
              "                    Your browser does not support the audio element.\n",
              "                </audio>\n",
              "              "
            ]
          },
          "metadata": {}
        }
      ]
    }
  ]
}